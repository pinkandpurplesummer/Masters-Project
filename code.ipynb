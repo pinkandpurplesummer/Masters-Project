import sqlite3
import pandas as pd
import matplotlib.pyplot as plt
import seaborn as sns
import numpy as np
import sklearn.metrics
import re
import sklearn
import sys 
!{sys.executable} -m pip install tensorflow-addons
import contractions
from sklearn import svm
from sklearn.metrics import accuracy_score, precision_score, recall_score, f1_score 
from sklearn.model_selection import train_test_split
import torch
!pip install scikit-learn-intelex
from ast import literal_eval
from sklearnex import patch_sklearn
from sklearn.feature_extraction.text import CountVectorizer
from sklearn.feature_extraction.text import TfidfTransformer
from sklearn.feature_extraction.text import TfidfVectorizer
!pip install pyxlsb
from sklearn import metrics
from sklearn.ensemble import RandomForestClassifier
from sklearn.metrics import confusion_matrix
from sklearn.metrics import ConfusionMatrixDisplay
from sklearn.model_selection import RandomizedSearchCV
from sklearn.ensemble import RandomForestRegressor
import tensorflow as tf
from sklearn.neural_network import MLPClassifier
from sklearn.neighbors import KNeighborsClassifier
from sklearn.model_selection import cross_val_score


imported_tf_df= pd.read_excel("ar-2010-2014-xlsb.xlsb")
imported_fs_df= pd.read_excel("ar-2015-2016-xlsb.xlsb")

tf_df= imported_tf_df
fs_df= imported_fs_df

def clean_data(tf_df, fs_df):
    df= pd.concat([tf_df, fs_df])
    df.columns = df.columns.str.lower()
    df= df[["patient age at treatment", 'total number of previous ivf cycles','total number of ivf pregnancies',
        'total number of live births - conceived through ivf', "type of infertility - female primary",
        "type of infertility - female secondary","type of infertility - male primary",
        "type of infertility - male secondary","type of infertility -couple primary",
        "type of infertility -couple secondary", "cause  of infertility - tubal disease",
        "cause of infertility - ovulatory disorder", "cause of infertility - male factor",
        "cause of infertility - patient unexplained", "cause of infertility - endometriosis",
        "cause of infertility - cervical factors", "cause of infertility - female factors",
        "cause of infertility - partner sperm concentration", "cause of infertility -  partner sperm morphology",
        "causes of infertility - partner sperm motility", "cause of infertility -  partner sperm immunological factors",
        "stimulation used", "egg source", "sperm from", "fresh cycle", "frozen cycle", "eggs thawed",
        "fresh eggs collected", "eggs mixed with partner sperm", "embryos transfered", "pgs", "pgd",
        "main reason for producing embroys storing eggs", "specific treatment type", "live birth occurrence"]]
    df.columns = df.columns.str.replace(' ', '_')
    #If the source of sperm and egg is from the same couple, i.e., Partner and Patient, then those patient records are 
    #considered, the rest are eliminated. 
    
    
    df=df[df["egg_source"] == 'Patient'] 
    df = df.drop('egg_source', axis=1)

    df=df[df["sperm_from"] == 'Partner'] 
    df = df.drop('sperm_from', axis=1)

    
    df = df[df.pgd != 1.0]
    df = df.drop('pgd', axis=1)

    df = df[df.pgs != 1.0]
    df = df.drop('pgs', axis=1)
    
    
    df=df[df["main_reason_for_producing_embroys_storing_eggs"] == 'Treatment Now '] 
    df = df.drop('main_reason_for_producing_embroys_storing_eggs', axis=1)

    
    df=df[df["specific_treatment_type"] != 'Unknown'] 
    df = df.drop('specific_treatment_type', axis=1)
    

    
    #In IVF, injectable medication containing both follicle-stimulating hormone (FSH) and luteinizing hormone (LH) is 
    #injected into females to stimulate more than one egg developing at a time45. It is described as "Stimulation Used" 
    #in the dataset; this study considers only patient records where stimulation is done.

    df=df[df["stimulation_used"] == 1] 
    df = df.drop('stimulation_used', axis=1)
    
    print((df['live_birth_occurrence'] == 1).sum())
    
    df = df.drop('cause_of_infertility_-__partner_sperm_immunological_factors', axis=1)
    df = df.drop('cause_of_infertility_-_female_factors', axis=1)
    
    from sklearn.preprocessing import LabelEncoder
    lab = LabelEncoder()

    df['patient_age_at_treatment'] = df['patient_age_at_treatment'].replace('-', '', regex=True).replace(' ', '', regex=True).astype(int)
    mask = df['patient_age_at_treatment'] != 999
    df = df[mask]
    df['patient_age_at_treatment'] = lab.fit_transform(df['patient_age_at_treatment'])

    df = df.fillna(0) 

    df= df.reset_index()
    df= df.drop(['index'], axis=1)
    return df


def balance_df(df):
    live_birth_df= df[df.live_birth_occurrence == 1]
    num_live_births= live_birth_df.shape[0]
    no_live_birth_df= df[df.live_birth_occurrence == 0]
    no_live_birth_sample_df= no_live_birth_df.sample(num_live_births)

    balanced_df= pd.concat([live_birth_df, no_live_birth_sample_df])
    return (balanced_df)

def datatypes_cleaning(balanced_df):
    balanced_df['total_number_of_previous_ivf_cycles']= balanced_df['total_number_of_previous_ivf_cycles'].replace(['>=5'], '5')
    balanced_df['total_number_of_ivf_pregnancies']= balanced_df['total_number_of_ivf_pregnancies'].replace(['>=5'], '5')
    balanced_df['fresh_eggs_collected']= balanced_df['fresh_eggs_collected'].replace(['> 50'], '50')
    balanced_df['eggs_mixed_with_partner_sperm']= balanced_df['eggs_mixed_with_partner_sperm'].replace(['> 50'], '50')
    balanced_df[["total_number_of_previous_ivf_cycles", "total_number_of_ivf_pregnancies", "fresh_eggs_collected", "eggs_mixed_with_partner_sperm"]] = balanced_df[["total_number_of_previous_ivf_cycles", "total_number_of_ivf_pregnancies", "fresh_eggs_collected", "eggs_mixed_with_partner_sperm"]].applymap(np.int64)
    balanced_df[["fresh_cycle", "frozen_cycle", "eggs_thawed", "embryos_transfered", "live_birth_occurrence"]] = balanced_df[["fresh_cycle", "frozen_cycle", "eggs_thawed", "embryos_transfered", "live_birth_occurrence"]].applymap(np.int64)
    return balanced_df

def scale_dataframe(balanced_df):
    scaled_df = balanced_df.copy() 
    for column in scaled_df.columns: 
        scaled_df[column] = scaled_df[column]  / scaled_df[column].abs().max() 
    return scaled_df    

df = clean_data(tf_df, fs_df)
balanced_df= balance_df(df)
